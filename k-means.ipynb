{
 "cells": [
  {
   "cell_type": "code",
   "execution_count": 17,
   "metadata": {},
   "outputs": [
    {
     "ename": "ModuleNotFoundError",
     "evalue": "No module named 'ffmpeg'",
     "output_type": "error",
     "traceback": [
      "\u001b[0;31m---------------------------------------------------------------------------\u001b[0m",
      "\u001b[0;31mModuleNotFoundError\u001b[0m                       Traceback (most recent call last)",
      "\u001b[0;32m<ipython-input-17-6141f0fce22b>\u001b[0m in \u001b[0;36m<module>\u001b[0;34m()\u001b[0m\n\u001b[1;32m      2\u001b[0m \u001b[0;32mimport\u001b[0m \u001b[0mpandas\u001b[0m \u001b[0;32mas\u001b[0m \u001b[0mpd\u001b[0m\u001b[0;34m\u001b[0m\u001b[0m\n\u001b[1;32m      3\u001b[0m \u001b[0;32mimport\u001b[0m \u001b[0mmatplotlib\u001b[0m\u001b[0;34m.\u001b[0m\u001b[0mpyplot\u001b[0m \u001b[0;32mas\u001b[0m \u001b[0mplt\u001b[0m\u001b[0;34m\u001b[0m\u001b[0m\n\u001b[0;32m----> 4\u001b[0;31m \u001b[0;32mimport\u001b[0m \u001b[0mffmpeg\u001b[0m\u001b[0;34m\u001b[0m\u001b[0m\n\u001b[0m\u001b[1;32m      5\u001b[0m \u001b[0;32mfrom\u001b[0m \u001b[0mmpl_toolkits\u001b[0m\u001b[0;34m.\u001b[0m\u001b[0mmplot3d\u001b[0m \u001b[0;32mimport\u001b[0m \u001b[0mAxes3D\u001b[0m\u001b[0;34m\u001b[0m\u001b[0m\n\u001b[1;32m      6\u001b[0m \u001b[0;34m\u001b[0m\u001b[0m\n",
      "\u001b[0;31mModuleNotFoundError\u001b[0m: No module named 'ffmpeg'"
     ]
    }
   ],
   "source": [
    "import numpy as np\n",
    "import pandas as pd\n",
    "import matplotlib.pyplot as plt\n",
    "import ffmpeg\n",
    "from mpl_toolkits.mplot3d import Axes3D \n",
    "\n",
    "CLUSTERNUM = 3"
   ]
  },
  {
   "cell_type": "code",
   "execution_count": 16,
   "metadata": {},
   "outputs": [],
   "source": [
    "data = pd.read_csv(\"./kmeansdata\", header=None).values"
   ]
  },
  {
   "cell_type": "code",
   "execution_count": 3,
   "metadata": {},
   "outputs": [
    {
     "data": {
      "text/plain": [
       "array([[ 0.28, -0.27, -0.86, -1.  ],\n",
       "       [ 0.17,  1.68,  0.11, -1.  ],\n",
       "       [ 0.27, -1.04, -0.44, -1.  ],\n",
       "       [ 0.84, -0.05,  0.46, -1.  ],\n",
       "       [ 0.16, -0.19,  0.82, -1.  ],\n",
       "       [ 0.21,  0.82, -0.8 , -1.  ],\n",
       "       [-0.88, -0.44, -1.15, -1.  ],\n",
       "       [ 0.85, -1.04,  1.47, -1.  ],\n",
       "       [ 0.41, -0.62,  0.88, -1.  ],\n",
       "       [-0.14,  0.51, -1.25, -1.  ],\n",
       "       [ 2.14,  0.31,  0.43, -1.  ],\n",
       "       [ 0.27,  2.06,  0.3 , -1.  ],\n",
       "       [ 1.5 , -0.95,  0.72, -1.  ],\n",
       "       [-0.85, -0.17, -0.25, -1.  ],\n",
       "       [ 1.17,  0.36, -0.41, -1.  ],\n",
       "       [-0.57, -0.42, -1.25, -1.  ],\n",
       "       [ 0.6 , -0.9 , -0.28, -1.  ],\n",
       "       [-1.53, -0.36,  1.89, -1.  ],\n",
       "       [ 0.38,  0.94,  0.04, -1.  ],\n",
       "       [ 1.24, -0.83,  1.4 , -1.  ],\n",
       "       [ 1.51,  1.72, -0.86, -1.  ],\n",
       "       [ 0.26, -0.94,  0.33, -1.  ],\n",
       "       [-0.04, -1.05,  0.4 , -1.  ],\n",
       "       [-0.6 , -0.95,  1.21, -1.  ],\n",
       "       [-1.27, -0.64,  2.14, -1.  ],\n",
       "       [-1.34,  0.  , -1.12, -1.  ],\n",
       "       [-1.37, -0.18, -1.02, -1.  ],\n",
       "       [-1.42, -0.05, -1.22, -1.  ],\n",
       "       [-0.91,  2.83, -0.51, -1.  ],\n",
       "       [-1.34, -0.16, -1.19, -1.  ]])"
      ]
     },
     "execution_count": 3,
     "metadata": {},
     "output_type": "execute_result"
    }
   ],
   "source": [
    "result = np.insert(data, 3, -1, axis=1)\n",
    "result"
   ]
  },
  {
   "cell_type": "code",
   "execution_count": 4,
   "metadata": {},
   "outputs": [
    {
     "data": {
      "text/plain": [
       "array([[ 0.27, -1.04, -0.44, -1.  ],\n",
       "       [-1.42, -0.05, -1.22, -1.  ],\n",
       "       [ 0.28, -0.27, -0.86, -1.  ]])"
      ]
     },
     "execution_count": 4,
     "metadata": {},
     "output_type": "execute_result"
    }
   ],
   "source": [
    "cent_init = np.random.choice(np.arange(0,30), CLUSTERNUM)\n",
    "cent_init\n",
    "\n",
    "centroid = [result[cent_init[0]], result[cent_init[1]], result[cent_init[2]]]\n",
    "#centroid = np.array([\n",
    "#    [0.1, 0, 0, 0],\n",
    "#    [0, 0.1, 0, 0],\n",
    "#    [0, 0, 0.1, 0]])\n",
    "\n",
    "centroid = np.array(centroid)\n",
    "centroid"
   ]
  },
  {
   "cell_type": "code",
   "execution_count": 5,
   "metadata": {},
   "outputs": [],
   "source": [
    "def abs(v1, v2):\n",
    "    return np.sqrt((v1[0]-v2[0])**2 + (v1[1]-v2[1])**2 + (v1[1]-v2[1])**2)"
   ]
  },
  {
   "cell_type": "code",
   "execution_count": 6,
   "metadata": {},
   "outputs": [],
   "source": [
    "def mean(result, cluster):\n",
    "    x_sum, y_sum, z_sum = 0, 0, 0\n",
    "    x_num, y_num, z_num = 0, 0, 0\n",
    "    \n",
    "    for n in np.arange(0,30):\n",
    "        if(result[n, 3] == cluster):\n",
    "            x_sum += result[n, 0]\n",
    "            y_sum += result[n, 1]\n",
    "            z_sum += result[n, 2]\n",
    "            x_num += 1            \n",
    "            y_num += 1\n",
    "            z_num += 1\n",
    "    \n",
    "    \n",
    "    x_mean = (x_sum/x_num)\n",
    "    y_mean = (y_sum/y_num)\n",
    "    z_mean = (z_sum/z_num)\n",
    "    \n",
    "    #rint(\"mean\")\n",
    "    #rint(x_mean)\n",
    "    #rint(y_mean)\n",
    "    #int(z_mean)\n",
    "    \n",
    "    return np.array([x_mean, y_mean, z_mean, 0])"
   ]
  },
  {
   "cell_type": "code",
   "execution_count": 7,
   "metadata": {},
   "outputs": [],
   "source": [
    "def select_row(result, cluster):\n",
    "    \n",
    "    resultArray = []\n",
    "    \n",
    "    for n in np.arange(0, 30):\n",
    "        if(result[n, 3] == cluster):\n",
    "            resultArray.append(result[n])\n",
    "    \n",
    "    resultArray = np.array(resultArray)\n",
    "    \n",
    "    return resultArray"
   ]
  },
  {
   "cell_type": "code",
   "execution_count": 8,
   "metadata": {},
   "outputs": [
    {
     "name": "stdout",
     "output_type": "stream",
     "text": [
      "[[ 0.51       -0.9625      0.60125     0.        ]\n",
      " [-1.21222222  0.09222222 -0.27        0.        ]\n",
      " [ 0.52538462  0.52692308 -0.18384615  0.        ]]\n",
      "[[ 0.477      -0.859       0.483       0.        ]\n",
      " [-1.17444444 -0.26888889 -0.35222222  0.        ]\n",
      " [ 0.52727273  0.99909091 -0.15181818  0.        ]]\n",
      "[[ 0.48083333 -0.73583333  0.50916667  0.        ]\n",
      " [-1.17444444 -0.26888889 -0.35222222  0.        ]\n",
      " [ 0.53333333  1.24777778 -0.32777778  0.        ]]\n",
      "[[ 0.57909091 -0.71636364  0.44545455  0.        ]\n",
      " [-1.117      -0.337      -0.196       0.        ]\n",
      " [ 0.53333333  1.24777778 -0.32777778  0.        ]]\n"
     ]
    }
   ],
   "source": [
    "while True:\n",
    "    \n",
    "    endflag = True\n",
    "    for n in np.arange(0,30):\n",
    "        \n",
    "        centroid_prev = result[n][3]\n",
    "        \n",
    "        dest0=abs(result[n], centroid[0])\n",
    "        dest1=abs(result[n], centroid[1])\n",
    "        dest2=abs(result[n], centroid[2])\n",
    "\n",
    "        if(dest0 < dest1 and dest0 < dest2):\n",
    "            result[n][3] = 0\n",
    "        elif(dest1 < dest0 and dest1 < dest2):\n",
    "            result[n][3] = 1\n",
    "        else:\n",
    "            result[n][3] = 2\n",
    "\n",
    "        if(centroid_prev != result[n][3]):\n",
    "            endflag = False\n",
    "            \n",
    "    if(endflag):\n",
    "        break\n",
    "        \n",
    "    centroid[0] = mean(result, 0)\n",
    "    centroid[1] = mean(result, 1)\n",
    "    centroid[2] = mean(result, 2)\n",
    "    \n",
    "    print(centroid)\n",
    "        \n"
   ]
  },
  {
   "cell_type": "code",
   "execution_count": 11,
   "metadata": {},
   "outputs": [
    {
     "data": {
      "image/png": "[encoded data removed]",
      "text/plain": [
       "<Figure size 432x288 with 1 Axes>"
      ]
     },
     "metadata": {
      "needs_background": "light"
     },
     "output_type": "display_data"
    }
   ],
   "source": [
    "fig = plt.figure()\n",
    "scatGraph = fig.add_subplot(1,1,1,projection='3d')\n",
    "\n",
    "result_0 = select_row(result, 0)\n",
    "result_1 = select_row(result, 1)\n",
    "result_2 = select_row(result, 2)\n",
    "\n",
    "x=result_0[:,0]\n",
    "y=result_0[:,1]\n",
    "z=result_0[:,2]\n",
    "scatGraph.scatter(x, y, z, edgecolors='red', alpha=1)\n",
    "\n",
    "x=result_1[:,0]\n",
    "y=result_1[:,1]\n",
    "z=result_1[:,2]\n",
    "scatGraph.scatter(x, y, z, edgecolors='green', alpha=1)\n",
    "\n",
    "x=result_2[:,0]\n",
    "y=result_2[:,1]\n",
    "z=result_2[:,2]\n",
    "scatGraph.scatter(x, y, z, edgecolors='yellow', alpha=1)\n",
    "\n",
    "scatGraph.set_xlabel('GDP/person')\n",
    "scatGraph.set_ylabel('Population Density')\n",
    "scatGraph.set_zlabel('Birthrate')\n",
    "\n",
    "plt.show()"
   ]
  },
  {
   "cell_type": "code",
   "execution_count": 12,
   "metadata": {},
   "outputs": [],
   "source": [
    "def matplotlib_rotate(dataname):\n",
    "    for angle in range(0, 360):\n",
    "        scatGraph.view_init(30, angle)\n",
    "        plt.savefig(\"figs/{0}_{1:03d}.jpg\".format(dataname, angle))"
   ]
  },
  {
   "cell_type": "code",
   "execution_count": 13,
   "metadata": {},
   "outputs": [
    {
     "data": {
      "text/plain": [
       "<Figure size 432x288 with 0 Axes>"
      ]
     },
     "metadata": {},
     "output_type": "display_data"
    }
   ],
   "source": [
    "matplotlib_rotate(\"clustering\")"
   ]
  },
  {
   "cell_type": "code",
   "execution_count": 14,
   "metadata": {},
   "outputs": [
    {
     "ename": "SyntaxError",
     "evalue": "invalid syntax (<ipython-input-14-5ae135058832>, line 1)",
     "output_type": "error",
     "traceback": [
      "\u001b[0;36m  File \u001b[0;32m\"<ipython-input-14-5ae135058832>\"\u001b[0;36m, line \u001b[0;32m1\u001b[0m\n\u001b[0;31m    ffmpeg -r 10 -i figs/clustering_%03d.jpg -pix_fmt rgb24 -f gif out.gif\u001b[0m\n\u001b[0m               ^\u001b[0m\n\u001b[0;31mSyntaxError\u001b[0m\u001b[0;31m:\u001b[0m invalid syntax\n"
     ]
    }
   ],
   "source": [
    "ffmpeg -r 10 -i figs/clustering_%03d.jpg -pix_fmt rgb24 -f gif out.gif"
   ]
  },
  {
   "cell_type": "code",
   "execution_count": null,
   "metadata": {},
   "outputs": [],
   "source": []
  }
 ],
 "metadata": {
  "kernelspec": {
   "display_name": "Python 3",
   "language": "python",
   "name": "python3"
  },
  "language_info": {
   "codemirror_mode": {
    "name": "ipython",
    "version": 3
   },
   "file_extension": ".py",
   "mimetype": "text/x-python",
   "name": "python",
   "nbconvert_exporter": "python",
   "pygments_lexer": "ipython3",
   "version": "3.7.0"
  }
 },
 "nbformat": 4,
 "nbformat_minor": 2
}
